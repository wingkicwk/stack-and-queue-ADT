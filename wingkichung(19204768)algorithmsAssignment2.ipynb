{
 "cells": [
  {
   "cell_type": "markdown",
   "metadata": {},
   "source": [
    "# Introduction\n",
    "In this assignment, we are going to implement and discuss the concepts of fundamental data structures including, arrays, linked lists, stacks, and queues.\n",
    "\n",
    "\n",
    "# Part l\n",
    "## Task l\n",
    "In the first task of this part, a class called myLinkedList that implements singly linked list interface including add first, add last, remove first, and list traversal. In order to build nodes for the linkedlist, a class Node will also be implemented."
   ]
  },
  {
   "cell_type": "code",
   "execution_count": null,
   "metadata": {},
   "outputs": [],
   "source": [
    "# Node class \n",
    "class Node: \n",
    "  \n",
    "    # Function to initialize the node object \n",
    "    def __init__(self, data): \n",
    "        self.data = data  # Assign data \n",
    "        self.next = None  # Initialize next as null\n",
    "    \n",
    "    # Function to get next node\n",
    "    def getNextNode(self):\n",
    "        return self.next    "
   ]
  },
  {
   "cell_type": "code",
   "execution_count": 23,
   "metadata": {},
   "outputs": [],
   "source": [
    "class myLinkedList:\n",
    "    # Function to initialize head and size\n",
    "    def __init__(self): \n",
    "        self.head = None\n",
    "        self.size = 0\n",
    "        \n",
    "    # Function to add an element at the front\n",
    "    def add_first(self, new_ele):\n",
    "        #assing a new node with the new element\n",
    "        new_node = Node(new_ele)\n",
    "        \n",
    "        #Assing the next of new node as head\n",
    "        new_node.next = self.head\n",
    "        \n",
    "        self.head = new_node \n",
    "        \n",
    "    # Function to add an element at the end\n",
    "    def add_last(self, new_ele):\n",
    "        #assing a new node with the new element\n",
    "        new_node = Node(new_ele)\n",
    "        \n",
    "        \n",
    "        # if the linked list is empty then set new node as head and return\n",
    "        if self.head == None:\n",
    "            self.head = new_node\n",
    "            return self.head\n",
    "        \n",
    "        else:\n",
    "            #else set lastElement as head\n",
    "            lastElement = self.head\n",
    "            \n",
    "            #traverse through the linkedlist until the last one\n",
    "            while lastElement.next:\n",
    "                lastElement = lastElement.next\n",
    "                \n",
    "        # set the next of last element as new node\n",
    "        lastElement.next = new_node\n",
    "              \n",
    "    # Function to remove a node at the front    \n",
    "    def remove_first(self):\n",
    "        \n",
    "        # if the linked list is empty then just return it\n",
    "        if self.head == None:\n",
    "            return self.head  \n",
    "        \n",
    "        # else point the head to next node of the head\n",
    "        else:\n",
    "            self.head = self.head.next\n",
    "            \n",
    "        \n",
    "        \n",
    "    # Function to print nodes of the linkedlist so that every node in the list has been seen\n",
    "    def list_traversal(self):\n",
    "        \n",
    "        #set the head as current\n",
    "        curr = self.head\n",
    "        \n",
    "        #inside a loop keep traversing the linkedlist and printing data of it\n",
    "        while curr:\n",
    "            print(curr.data)\n",
    "            curr = curr.getNextNode()     \n"
   ]
  },
  {
   "cell_type": "markdown",
   "metadata": {},
   "source": [
    "Now lets use examples to test the operation of myLinkedList such as adding new elements to the list and removing elements from the list. The content of the list after each operation is printed."
   ]
  },
  {
   "cell_type": "code",
   "execution_count": 24,
   "metadata": {},
   "outputs": [
    {
     "name": "stdout",
     "output_type": "stream",
     "text": [
      "6\n",
      "5\n",
      "4\n"
     ]
    }
   ],
   "source": [
    "myList = myLinkedList()\n",
    "myList.add_first(4)\n",
    "myList.add_first(5)\n",
    "myList.add_first(6)\n",
    "myList.list_traversal()"
   ]
  },
  {
   "cell_type": "code",
   "execution_count": 25,
   "metadata": {},
   "outputs": [
    {
     "name": "stdout",
     "output_type": "stream",
     "text": [
      "6\n",
      "5\n",
      "4\n",
      "100\n"
     ]
    }
   ],
   "source": [
    "# myList = myLinkedList()\n",
    "myList.add_last(100)\n",
    "myList.list_traversal()"
   ]
  },
  {
   "cell_type": "code",
   "execution_count": 26,
   "metadata": {},
   "outputs": [
    {
     "name": "stdout",
     "output_type": "stream",
     "text": [
      "5\n",
      "4\n",
      "100\n"
     ]
    }
   ],
   "source": [
    "# myList = myLinkedList()\n",
    "myList.remove_first()\n",
    "myList.list_traversal()"
   ]
  },
  {
   "cell_type": "markdown",
   "metadata": {},
   "source": [
    "## Task 2\n",
    "In the second task of this part, stack ADT and queue ADT will be defined and the the key operations and support operations commonly associated with these ADTs will be listed. Also, two real world data examples will be given for each of them."
   ]
  },
  {
   "cell_type": "markdown",
   "metadata": {},
   "source": [
    "### Stack ADT\n",
    "The stack ADT is a abstract data type that elements are placed on top of each other and all new element are added to the top of the stack. A stack is bascially a group of objects that inserted and removed are performed at only one end, whcih is the top of the stack and is based on the last in first out(LIFO)principle. Therefore, we can say that a stack is ordered since elements appear in sequence based on how long they have been in the stack, and everytime only the last element, i.e. the most recently inserted one can be removed. In the implementation of stack adt, other than sotring data in each node, the pointer to data is stored. A stack ADT can be implemented using arrays or linked lists.\n",
    "\n",
    "\n",
    "The following key operations can be performed by stack ADT:\n",
    "- push() – Insert an element at one end of the stack which called top.\n",
    "- pop() – Remove and return the element at the top of the stack, if it is not empty.\n",
    "\n",
    "\n",
    "The following support operations can also be performed by stack ADT:\n",
    "- top() – Return the element at the top of the stack without removing it, if the stack is not empty.\n",
    "- size() – Return the number of elements in the stack.\n",
    "- isEmpty() – Return true if the stack is empty, otherwise return false."
   ]
  },
  {
   "cell_type": "markdown",
   "metadata": {},
   "source": [
    "#### Stack ADT Examples\n",
    "1. View history stored in internet web browsers\n",
    "Web browsers using the concept of stack to keep the addresses of the sites that the user visited recently. Every time when a user visit a website, the address of that website is stored by 'pushing' to the stack of addresses, and thus the user is allowed to 'pop' back to the websites that visited previously using the browser's back button if he'she wants.\n",
    "\n",
    "2. 'Undo' mechanism in text editors\n",
    "Usually, text ediors provide users with a 'undo' mechanism that can abolish current editing actions and return to previous states of a document. This 'undo' mechanism can be acheived by storing text changes in a stack.\n"
   ]
  },
  {
   "cell_type": "markdown",
   "metadata": {},
   "source": [
    "### Queue ADT\n",
    "\n",
    "A queue is a group of objects that inserted and removed are performed at two different ends. \n",
    "In a queue, the insert operation is implemented at a position that known as 'rear'(enqueued) and the delete operation is implemented at a position that known as 'front'(dequeued). In queue data structure, both insert and delete operations are performed based on first in first out(FIFO) principle. Although elements can be added to a queue at any time, only the one that stay in the queue for the longest time may be removed. A queue ADT can be implemented using arrays or linked lists.\n",
    "\n",
    "The following key operations can be performed by queue ADT:\n",
    "- enqueue() – Insert an element at the end of the queue.\n",
    "- dequeue() – Remove and return the first element of the queue, if the queue is not empty.\n",
    "\n",
    "\n",
    "The following support operations can also be performed by stack ADT:\n",
    "- front() – Return the element of the queue without removing it, if the queue is not empty.\n",
    "- size() – Return the number of elements in the queue.\n",
    "- isEmpty() – Return true if the queue is empty, otherwise return false."
   ]
  },
  {
   "cell_type": "markdown",
   "metadata": {},
   "source": [
    "#### Queue ADT Examples\n",
    "\n",
    "1. print spooling\n",
    "Print sppoling allows user to send large or multiple documents to a printer without having to wait for each one to finish before keep doing next task. This can be achieved becuase a queue ADT is used. In print spooling, documents are loaded into a buffer and then the printer takes them off the buffer at its own rate using FIFO principle, so the documents are all line up and will be printed in a first come first serve basis.\n",
    "\n",
    "2. A breadth first search(BFS) in a graph\n",
    "A BFS in a graph is an algorithm for searching graph data structures. It is implemented based on queue data structure and has a queue of all the edges that attach a visited vertx with an unvisited one. A dummpy self loop will be put to the beginning vertex, then the following are implemented until the queue become empty:\n",
    "\n",
    "    - Edges are taken from the queue until one that points to an unvisited vertex is found.\n",
    "\n",
    "    - Access that vertex and put onto the queue all edges that begin from that vertex to unvisited vertices.\n"
   ]
  },
  {
   "cell_type": "markdown",
   "metadata": {},
   "source": [
    "# Part ll\n",
    "In this part, we will implement and test the operation of a stack ADT.\n",
    "\n",
    "## Task l\n",
    "In this task, the ADT concepts of Part I (task 2) will be adopted to provide a complete implementation of a stack ADT."
   ]
  },
  {
   "cell_type": "code",
   "execution_count": 30,
   "metadata": {},
   "outputs": [],
   "source": [
    "class StackADT: \n",
    "      \n",
    "    # head is default NULL \n",
    "    def __init__(self): \n",
    "        self.head = None\n",
    "      \n",
    "    # Checks if stack is empty \n",
    "    def isempty(self): \n",
    "        if self.head == None: \n",
    "            return True\n",
    "        else: \n",
    "            return False\n",
    "                \n",
    "        \n",
    "    # Insert an element at one end of the stack called top.\n",
    "    def push(self,ele): \n",
    "          \n",
    "        if self.head == None: \n",
    "            self.head=Node(ele) \n",
    "              \n",
    "        else: \n",
    "            new_node = Node(ele) \n",
    "            new_node.next = self.head \n",
    "            self.head = new_node \n",
    "      \n",
    "    # Remove and return the element at the top of the stack if it is not empty\n",
    "    def pop(self): \n",
    "          \n",
    "        if self.isempty(): \n",
    "            return None\n",
    "              \n",
    "        else: \n",
    "            # Removes the head and makes the following one the new head \n",
    "            nodePopped = self.head \n",
    "            self.head = self.head.next\n",
    "            nodePopped.next = None\n",
    "            return nodePopped.data\n",
    "      \n",
    "    # Returns the head node element if the stack is not empty\n",
    "    def top(self): \n",
    "          \n",
    "        if self.isempty(): \n",
    "            return None\n",
    "              \n",
    "        else: \n",
    "            return self.head.data\n",
    " \n",
    "    # Function to get the size of the stack\n",
    "    def size(self):\n",
    "        return self.size  "
   ]
  },
  {
   "cell_type": "markdown",
   "metadata": {},
   "source": [
    "## Task ll\n",
    "We will now execute the following series of stack operations upon an initially empty stack S, and see what values are returned. "
   ]
  },
  {
   "cell_type": "code",
   "execution_count": 31,
   "metadata": {},
   "outputs": [
    {
     "data": {
      "text/plain": [
       "5"
      ]
     },
     "execution_count": 31,
     "metadata": {},
     "output_type": "execute_result"
    }
   ],
   "source": [
    "S = StackADT()\n",
    "S.push(5)\n",
    "S.push(3)\n",
    "S.pop()\n",
    "S.push(2)\n",
    "S.push(8)\n",
    "S.pop()\n",
    "S.pop()\n",
    "S.push(9)\n",
    "S.push(1)\n",
    "S.pop()\n",
    "S.push(7)\n",
    "S.push(6)\n",
    "S.pop()\n",
    "S.pop()\n",
    "S.push(4)\n",
    "S.pop()\n",
    "S.pop()\n",
    "S.top()"
   ]
  },
  {
   "cell_type": "markdown",
   "metadata": {},
   "source": [
    "We can see from the output above that the returned value is 5"
   ]
  },
  {
   "cell_type": "markdown",
   "metadata": {},
   "source": [
    "## Task lll\n",
    "The current size of S is **28**. This is becuase after 35 push operations, the size is 35, 15 top operation didn't add stack size at all, so it is still 28. Now since among 10 pop operations, 3 of which raised Empty errors that were caught and ignored, the stack size is reduce by (10-3)=7. Therefore the current size of S is 35-7= **28**"
   ]
  },
  {
   "cell_type": "markdown",
   "metadata": {},
   "source": [
    "# Conclusion\n",
    "In this assignemnt, we implemented linked list and stack data structures using python code, and also explored the definitions, operations and real world implementation of stack and queue ADT. As a result, the understanding towards the structure, nature and use of fundamental data structures including, arrays, linked lists, stacks, and queues are deepened."
   ]
  }
 ],
 "metadata": {
  "kernelspec": {
   "display_name": "Python 3",
   "language": "python",
   "name": "python3"
  },
  "language_info": {
   "codemirror_mode": {
    "name": "ipython",
    "version": 3
   },
   "file_extension": ".py",
   "mimetype": "text/x-python",
   "name": "python",
   "nbconvert_exporter": "python",
   "pygments_lexer": "ipython3",
   "version": "3.7.3"
  }
 },
 "nbformat": 4,
 "nbformat_minor": 2
}
